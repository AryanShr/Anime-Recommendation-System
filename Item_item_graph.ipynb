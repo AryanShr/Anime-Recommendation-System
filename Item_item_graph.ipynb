{
  "nbformat": 4,
  "nbformat_minor": 0,
  "metadata": {
    "colab": {
      "provenance": [],
      "authorship_tag": "ABX9TyMFpHLNweJBMYWv5eawg+sK",
      "include_colab_link": true
    },
    "kernelspec": {
      "name": "python3",
      "display_name": "Python 3"
    },
    "language_info": {
      "name": "python"
    }
  },
  "cells": [
    {
      "cell_type": "markdown",
      "metadata": {
        "id": "view-in-github",
        "colab_type": "text"
      },
      "source": [
        "<a href=\"https://colab.research.google.com/github/AryanShr/Anime-Recommendation-System/blob/main/Item_item_graph.ipynb\" target=\"_parent\"><img src=\"https://colab.research.google.com/assets/colab-badge.svg\" alt=\"Open In Colab\"/></a>"
      ]
    },
    {
      "cell_type": "code",
      "execution_count": null,
      "metadata": {
        "id": "DQK5fzvD6MJD"
      },
      "outputs": [],
      "source": [
        "import json\n",
        "from tqdm import tqdm\n",
        "import networkx as nx\n",
        "import numpy as np\n",
        "import tensorflow as tf\n",
        "from tensorflow.keras.metrics import CosineSimilarity\n",
        "import tensorflow_hub as hub"
      ]
    },
    {
      "cell_type": "code",
      "source": [
        "from google.colab import drive\n",
        "drive.mount('/content/drive')"
      ],
      "metadata": {
        "colab": {
          "base_uri": "https://localhost:8080/"
        },
        "id": "qRyHYOi76Zyi",
        "outputId": "1aad5054-2e0c-4a8a-d625-c77dd5a1b330"
      },
      "execution_count": null,
      "outputs": [
        {
          "output_type": "stream",
          "name": "stdout",
          "text": [
            "Mounted at /content/drive\n"
          ]
        }
      ]
    },
    {
      "cell_type": "markdown",
      "source": [
        "#####Load Json"
      ],
      "metadata": {
        "id": "a3FcZDOc62An"
      }
    },
    {
      "cell_type": "code",
      "source": [
        "path = \"/content/drive/MyDrive/Data/amazon-meta_filtered.json\""
      ],
      "metadata": {
        "id": "rsKLVkSR7xl1"
      },
      "execution_count": null,
      "outputs": []
    },
    {
      "cell_type": "code",
      "source": [
        "!pip install pyspark"
      ],
      "metadata": {
        "colab": {
          "base_uri": "https://localhost:8080/"
        },
        "id": "5uLTZFUQPimy",
        "outputId": "ca5e66d8-51c6-4619-abc7-6d3ecdd035f1"
      },
      "execution_count": null,
      "outputs": [
        {
          "output_type": "stream",
          "name": "stdout",
          "text": [
            "Collecting pyspark\n",
            "  Downloading pyspark-3.4.1.tar.gz (310.8 MB)\n",
            "\u001b[2K     \u001b[90m━━━━━━━━━━━━━━━━━━━━━━━━━━━━━━━━━━━━━━━\u001b[0m \u001b[32m310.8/310.8 MB\u001b[0m \u001b[31m1.7 MB/s\u001b[0m eta \u001b[36m0:00:00\u001b[0m\n",
            "\u001b[?25h  Preparing metadata (setup.py) ... \u001b[?25l\u001b[?25hdone\n",
            "Requirement already satisfied: py4j==0.10.9.7 in /usr/local/lib/python3.10/dist-packages (from pyspark) (0.10.9.7)\n",
            "Building wheels for collected packages: pyspark\n",
            "  Building wheel for pyspark (setup.py) ... \u001b[?25l\u001b[?25hdone\n",
            "  Created wheel for pyspark: filename=pyspark-3.4.1-py2.py3-none-any.whl size=311285398 sha256=4107976d3ffc0ec2a68f1baa0f62bde4c670b7a73dcee2b04097152b40bea4bd\n",
            "  Stored in directory: /root/.cache/pip/wheels/0d/77/a3/ff2f74cc9ab41f8f594dabf0579c2a7c6de920d584206e0834\n",
            "Successfully built pyspark\n",
            "Installing collected packages: pyspark\n",
            "Successfully installed pyspark-3.4.1\n"
          ]
        }
      ]
    },
    {
      "cell_type": "code",
      "source": [
        "!pip install findspark"
      ],
      "metadata": {
        "colab": {
          "base_uri": "https://localhost:8080/"
        },
        "id": "UqebINgoPnhC",
        "outputId": "89652e81-b391-4c42-b82c-6ed996d889ba"
      },
      "execution_count": null,
      "outputs": [
        {
          "output_type": "stream",
          "name": "stdout",
          "text": [
            "Collecting findspark\n",
            "  Downloading findspark-2.0.1-py2.py3-none-any.whl (4.4 kB)\n",
            "Installing collected packages: findspark\n",
            "Successfully installed findspark-2.0.1\n"
          ]
        }
      ]
    },
    {
      "cell_type": "code",
      "source": [],
      "metadata": {
        "id": "kKDJINlKPuzY"
      },
      "execution_count": null,
      "outputs": []
    },
    {
      "cell_type": "code",
      "execution_count": null,
      "metadata": {
        "colab": {
          "base_uri": "https://localhost:8080/",
          "height": 36
        },
        "id": "aAYaw-gD2skY",
        "outputId": "506c10ec-2b11-4431-a117-d41ca3a33423"
      },
      "outputs": [
        {
          "output_type": "execute_result",
          "data": {
            "text/plain": [
              "'/usr/local/lib/python3.10/dist-packages/pyspark'"
            ],
            "application/vnd.google.colaboratory.intrinsic+json": {
              "type": "string"
            }
          },
          "metadata": {},
          "execution_count": 17
        }
      ],
      "source": [
        "import findspark\n",
        "findspark.init()\n",
        "findspark.find()"
      ]
    },
    {
      "cell_type": "code",
      "source": [
        "from pyspark.sql import SparkSession\n",
        "spark = SparkSession.builder.appName('Hackrx_Graphilic.com').getOrCreate()"
      ],
      "metadata": {
        "id": "klfxUnCzQAIG"
      },
      "execution_count": null,
      "outputs": []
    },
    {
      "cell_type": "code",
      "source": [
        "from pyspark.sql import functions\n",
        "from pyspark.sql import types"
      ],
      "metadata": {
        "id": "qRZ55T6CRyb-"
      },
      "execution_count": null,
      "outputs": []
    },
    {
      "cell_type": "code",
      "execution_count": null,
      "metadata": {
        "id": "ZBMoz_4n3El2"
      },
      "outputs": [],
      "source": [
        "file_path = \"/content/drive/MyDrive/hackrx/\""
      ]
    },
    {
      "cell_type": "code",
      "source": [
        "categories = spark.read.option(\"header\",True).csv(file_path+'categories.csv')"
      ],
      "metadata": {
        "id": "Q0MaXWMU6Y7_"
      },
      "execution_count": null,
      "outputs": []
    },
    {
      "cell_type": "code",
      "source": [
        "categories.show(truncate=False)"
      ],
      "metadata": {
        "colab": {
          "base_uri": "https://localhost:8080/"
        },
        "id": "DBt0EFmD61bW",
        "outputId": "5f7e74a6-192b-4a5f-f309-9dff2a995ee6"
      },
      "execution_count": null,
      "outputs": [
        {
          "output_type": "stream",
          "name": "stdout",
          "text": [
            "+----------+-----------------------------------------------------------------------------------------------------------------------------------------+\n",
            "|ASIN      |category                                                                                                                                 |\n",
            "+----------+-----------------------------------------------------------------------------------------------------------------------------------------+\n",
            "|0827229534||Books[283155]|Subjects[1000]|Religion & Spirituality[22]|Christianity[12290]|Clergy[12360]|Preaching[12368]                             |\n",
            "|0827229534||Books[283155]|Subjects[1000]|Religion & Spirituality[22]|Christianity[12290]|Clergy[12360]|Sermons[12370]                               |\n",
            "|0738700797||Books[283155]|Subjects[1000]|Religion & Spirituality[22]|Earth-Based Religions[12472]|Wicca[12484]                                      |\n",
            "|0738700797||Books[283155]|Subjects[1000]|Religion & Spirituality[22]|Earth-Based Religions[12472]|Witchcraft[12486]                                 |\n",
            "|0486287785||Books[283155]|Subjects[1000]|Home & Garden[48]|Crafts & Hobbies[5126]|General[5144]                                                     |\n",
            "|0842328327||Books[283155]|Subjects[1000]|Religion & Spirituality[22]|Christianity[12290]|Reference[172810]|Commentaries[12155]|New Testament[12159] |\n",
            "|0842328327||Books[283155]|Subjects[1000]|Religion & Spirituality[22]|Christianity[12290]|Christian Living[12333]|Discipleship[12335]                |\n",
            "|0842328327||Books[283155]|Subjects[1000]|Religion & Spirituality[22]|Christianity[12290]|Bibles[12059]|Translations[764432]|Life Application[572080]|\n",
            "|0842328327||Books[283155]|Subjects[1000]|Religion & Spirituality[22]|Bible & Other Sacred Texts[12056]|Bible[764430]|New Testament[572082]          |\n",
            "|0842328327||Books[283155]|Subjects[1000]|Religion & Spirituality[22]|Christianity[12290]|Bibles[12059]|Study Guides                                 |\n",
            "|0842328327| History & Reference[764438]|General[572094]                                                                                             |\n",
            "|1577943082||Books[283155]|Subjects[1000]|Religion & Spirituality[22]|Christianity[12290]|Worship & Devotion[12465]|Prayerbooks[12470]               |\n",
            "|1577943082||Books[283155]|Subjects[1000]|Religion & Spirituality[22]|Christianity[12290]|Christian Living[12333]|Business[297488]                   |\n",
            "|0486220125||Books[283155]|Subjects[1000]|Arts & Photography[1]|Photography[2020]|Photo Essays[2082]                                                 |\n",
            "|0486220125||Books[283155]|Subjects[1000]|History[9]|Americas[4808]|United States[4853]|General[4870]                                                |\n",
            "|0486220125||Books[283155]|Subjects[1000]|History[9]|Jewish[4992]|General[4993]                                                                      |\n",
            "|0486220125||Books[283155]|Subjects[1000]|Nonfiction[53]|Social Sciences[11232]|Sociology[11288]|Urban[11296]                                        |\n",
            "|0486220125||[172282]|Categories[493964]|Camera & Photo[502394]|Photography Books[733540]|Photo Essays[733676]                                       |\n",
            "|B00000AU3R||Music[5174]|Styles[301668]|Jazz[34]|General[63926]                                                                                      |\n",
            "|B00000AU3R||Music[5174]|Styles[301668]|Jazz[34]|Modern Postbebop[63929]                                                                             |\n",
            "+----------+-----------------------------------------------------------------------------------------------------------------------------------------+\n",
            "only showing top 20 rows\n",
            "\n"
          ]
        }
      ]
    },
    {
      "cell_type": "code",
      "source": [
        "categories = categories.withColumn(\"category\", functions.split(functions.regexp_replace(functions.col(\"category\"), r\"\\[.*?\\]\", \"\"), \"\\\\|\"))\n",
        "categories.show(truncate=False)"
      ],
      "metadata": {
        "colab": {
          "base_uri": "https://localhost:8080/"
        },
        "id": "h_tlSgiwE_ME",
        "outputId": "c6841a7e-137b-4286-de9a-60fe7140e4ae"
      },
      "execution_count": null,
      "outputs": [
        {
          "output_type": "stream",
          "name": "stdout",
          "text": [
            "+----------+--------------------------------------------------------------------------------------------------+\n",
            "|ASIN      |category                                                                                          |\n",
            "+----------+--------------------------------------------------------------------------------------------------+\n",
            "|0827229534|[, Books, Subjects, Religion & Spirituality, Christianity, Clergy, Preaching]                     |\n",
            "|0827229534|[, Books, Subjects, Religion & Spirituality, Christianity, Clergy, Sermons]                       |\n",
            "|0738700797|[, Books, Subjects, Religion & Spirituality, Earth-Based Religions, Wicca]                        |\n",
            "|0738700797|[, Books, Subjects, Religion & Spirituality, Earth-Based Religions, Witchcraft]                   |\n",
            "|0486287785|[, Books, Subjects, Home & Garden, Crafts & Hobbies, General]                                     |\n",
            "|0842328327|[, Books, Subjects, Religion & Spirituality, Christianity, Reference, Commentaries, New Testament]|\n",
            "|0842328327|[, Books, Subjects, Religion & Spirituality, Christianity, Christian Living, Discipleship]        |\n",
            "|0842328327|[, Books, Subjects, Religion & Spirituality, Christianity, Bibles, Translations, Life Application]|\n",
            "|0842328327|[, Books, Subjects, Religion & Spirituality, Bible & Other Sacred Texts, Bible, New Testament]    |\n",
            "|0842328327|[, Books, Subjects, Religion & Spirituality, Christianity, Bibles, Study Guides]                  |\n",
            "|0842328327|[ History & Reference, General]                                                                   |\n",
            "|1577943082|[, Books, Subjects, Religion & Spirituality, Christianity, Worship & Devotion, Prayerbooks]       |\n",
            "|1577943082|[, Books, Subjects, Religion & Spirituality, Christianity, Christian Living, Business]            |\n",
            "|0486220125|[, Books, Subjects, Arts & Photography, Photography, Photo Essays]                                |\n",
            "|0486220125|[, Books, Subjects, History, Americas, United States, General]                                    |\n",
            "|0486220125|[, Books, Subjects, History, Jewish, General]                                                     |\n",
            "|0486220125|[, Books, Subjects, Nonfiction, Social Sciences, Sociology, Urban]                                |\n",
            "|0486220125|[, , Categories, Camera & Photo, Photography Books, Photo Essays]                                 |\n",
            "|B00000AU3R|[, Music, Styles, Jazz, General]                                                                  |\n",
            "|B00000AU3R|[, Music, Styles, Jazz, Modern Postbebop]                                                         |\n",
            "+----------+--------------------------------------------------------------------------------------------------+\n",
            "only showing top 20 rows\n",
            "\n"
          ]
        }
      ]
    },
    {
      "cell_type": "code",
      "source": [
        "def flatten_category(arr):\n",
        "  return list(set(x.strip() for sublist in arr for x in sublist if x.strip()))"
      ],
      "metadata": {
        "id": "oUQg5ugXR1ky"
      },
      "execution_count": null,
      "outputs": []
    },
    {
      "cell_type": "code",
      "source": [
        "flattenUDF = functions.udf(lambda z: flatten_category(z), types.ArrayType(types.StringType()))"
      ],
      "metadata": {
        "id": "Z90H7MxgSGqp"
      },
      "execution_count": null,
      "outputs": []
    },
    {
      "cell_type": "code",
      "source": [
        "categories = categories.groupBy('ASIN').agg(functions.collect_set(\"category\").alias(\"category\"))\n",
        "categories = categories.withColumn('category', flattenUDF(functions.col(\"category\")))\n",
        "categories.show(truncate=False)"
      ],
      "metadata": {
        "colab": {
          "base_uri": "https://localhost:8080/"
        },
        "id": "efHVSJraSIJ7",
        "outputId": "8234b125-4718-4f5b-9273-2e20475068fc"
      },
      "execution_count": null,
      "outputs": [
        {
          "output_type": "stream",
          "name": "stdout",
          "text": [
            "+----------+---------------------------------------------------------------------------------------------------------------------------------------------------------------------------------------------------------------------+\n",
            "|ASIN      |category                                                                                                                                                                                                             |\n",
            "+----------+---------------------------------------------------------------------------------------------------------------------------------------------------------------------------------------------------------------------+\n",
            "|0001057170|[Humor, Entertainment, Books, Formats, General, Boxed Sets, Books on Tape, Subjects]                                                                                                                                 |\n",
            "|0001474103|[Christianity, Books, Religion & Spirituality, Prophecies, Subjects, Reference]                                                                                                                                      |\n",
            "|0002193183|[Biological Sciences, Science, Reptiles & Amphibians, Books, Animals, Subjects]                                                                                                                                      |\n",
            "|0002250985|[Food & Wine, Brunch & Tea, Breakfast, Books, General, Cooking, Meals, Special Occasions, Subjects]                                                                                                                  |\n",
            "|0002251965|[U.S. Regional, Food & Wine, Regional & International, Books, General, Cooking, South, Subjects]                                                                                                                     |\n",
            "|0004133897|[Arts & Photography, Books, General, Instruction & Reference, Art, Watercolor Painting, Subjects]                                                                                                                    |\n",
            "|0004140885|[Food & Wine, Books, General, Cooking, Subjects]                                                                                                                                                                     |\n",
            "|0004707508|[English (All), Instruction, Foreign Language, Libros en español, Dictionaries & Thesauruses, Books, Formats, Dictionaries; Polyglot, Foreign Languages, Referencia, General, Polyglot, Spanish, Subjects, Reference]|\n",
            "|0004722817|[Conventional, World, Military Science, Nonfiction, Aviation, Books, General, History, Military, Weapons & Warfare, Transportation, Subjects]                                                                        |\n",
            "|0004723015|[Individual Sports, Sports, Mind & Body, Books, General, Health, Self-Help, Martial Arts, Subjects]                                                                                                                  |\n",
            "|0004723996|[Travel Books, Great Britain, Scotland, Amazon.com Stores, Books, General, Subjects, Travel, Europe, Categories]                                                                                                     |\n",
            "|0004724534|[Antiques & Collectibles, Firearms & Weapons, Home & Garden, Books, General, Subjects, Reference]                                                                                                                    |\n",
            "|000472500X|[Arts & Photography, Dance, Books, Performing Arts, Folk, Subjects]                                                                                                                                                  |\n",
            "|0005993806|[Christianity, Church Administration, Hymnals, Celtic, Worship & Devotion, Books, Clergy, Religion & Spirituality, Earth-Based Religions, Subjects]                                                                  |\n",
            "|0006386709|[Business & Investing Books, Management & Leadership, Amazon.com Stores, Books, Business & Investing, General, Management, Home & Office, Subjects]                                                                  |\n",
            "|0006482864|[Dick, ( D ), Science Fiction, Authors, Books, General, Science Fiction & Fantasy, Philip K., A-Z, Subjects]                                                                                                         |\n",
            "|0006491790|[Water Sports, Surfing, Sports, Books, General, Subjects]                                                                                                                                                            |\n",
            "|0006498779|[Mystery, Mystery & Thrillers, Books, General, British Detectives, Subjects]                                                                                                                                         |\n",
            "|0006531806|[Strategy, Politics, Nonfiction, Books, General, Ideologies, History, Military, Communism & Socialism, Subjects]                                                                                                     |\n",
            "|0006907237|[Fiction, Science, Science Fiction, Nature & How It Works, Books, Science Fiction & Fantasy, Children's Books, Teens, Subjects]                                                                                      |\n",
            "+----------+---------------------------------------------------------------------------------------------------------------------------------------------------------------------------------------------------------------------+\n",
            "only showing top 20 rows\n",
            "\n"
          ]
        }
      ]
    },
    {
      "cell_type": "code",
      "source": [
        "categories.count()"
      ],
      "metadata": {
        "colab": {
          "base_uri": "https://localhost:8080/"
        },
        "id": "j7ha3F2KSXt2",
        "outputId": "2bf0ffef-8a0b-4406-fca1-86e0955af30f"
      },
      "execution_count": null,
      "outputs": [
        {
          "output_type": "execute_result",
          "data": {
            "text/plain": [
              "87780"
            ]
          },
          "metadata": {},
          "execution_count": 30
        }
      ]
    },
    {
      "cell_type": "code",
      "source": [
        "# SHow type of category column in categories\n",
        "categories.printSchema()\n"
      ],
      "metadata": {
        "colab": {
          "base_uri": "https://localhost:8080/"
        },
        "id": "x56QrOV2TqTw",
        "outputId": "a2959b44-e862-4cfb-e401-a5c06dfd95ca"
      },
      "execution_count": null,
      "outputs": [
        {
          "output_type": "stream",
          "name": "stdout",
          "text": [
            "root\n",
            " |-- ASIN: string (nullable = true)\n",
            " |-- category: array (nullable = true)\n",
            " |    |-- element: string (containsNull = true)\n",
            "\n"
          ]
        }
      ]
    },
    {
      "cell_type": "code",
      "source": [
        "second_row = categories.collect()[1]\n"
      ],
      "metadata": {
        "id": "tshlyax_VP5x"
      },
      "execution_count": null,
      "outputs": []
    },
    {
      "cell_type": "code",
      "source": [
        "for ele in second_row['category']:\n",
        "  print(ele)"
      ],
      "metadata": {
        "colab": {
          "base_uri": "https://localhost:8080/"
        },
        "id": "P8pD9bTCVwTL",
        "outputId": "e578075f-a634-4291-a762-acff4f93cbee"
      },
      "execution_count": null,
      "outputs": [
        {
          "output_type": "stream",
          "name": "stdout",
          "text": [
            "Christianity\n",
            "Books\n",
            "Religion & Spirituality\n",
            "Prophecies\n",
            "Subjects\n",
            "Reference\n"
          ]
        }
      ]
    },
    {
      "cell_type": "code",
      "source": [
        "for ele in categories[1]['category']:\n",
        "  print(ele)"
      ],
      "metadata": {
        "colab": {
          "base_uri": "https://localhost:8080/",
          "height": 304
        },
        "id": "8KsH7HttVFYq",
        "outputId": "57992340-4c47-470e-f760-9eca7aaf11de"
      },
      "execution_count": null,
      "outputs": [
        {
          "output_type": "error",
          "ename": "TypeError",
          "evalue": "ignored",
          "traceback": [
            "\u001b[0;31m---------------------------------------------------------------------------\u001b[0m",
            "\u001b[0;31mTypeError\u001b[0m                                 Traceback (most recent call last)",
            "\u001b[0;32m<ipython-input-40-bf707bd28c8a>\u001b[0m in \u001b[0;36m<cell line: 1>\u001b[0;34m()\u001b[0m\n\u001b[0;32m----> 1\u001b[0;31m \u001b[0;32mfor\u001b[0m \u001b[0mele\u001b[0m \u001b[0;32min\u001b[0m \u001b[0mcategories\u001b[0m\u001b[0;34m[\u001b[0m\u001b[0;36m1\u001b[0m\u001b[0;34m]\u001b[0m\u001b[0;34m[\u001b[0m\u001b[0;34m'category'\u001b[0m\u001b[0;34m]\u001b[0m\u001b[0;34m:\u001b[0m\u001b[0;34m\u001b[0m\u001b[0;34m\u001b[0m\u001b[0m\n\u001b[0m\u001b[1;32m      2\u001b[0m   \u001b[0mprint\u001b[0m\u001b[0;34m(\u001b[0m\u001b[0mele\u001b[0m\u001b[0;34m)\u001b[0m\u001b[0;34m\u001b[0m\u001b[0;34m\u001b[0m\u001b[0m\n",
            "\u001b[0;32m/usr/local/lib/python3.10/dist-packages/pyspark/sql/column.py\u001b[0m in \u001b[0;36m__iter__\u001b[0;34m(self)\u001b[0m\n\u001b[1;32m    708\u001b[0m \u001b[0;34m\u001b[0m\u001b[0m\n\u001b[1;32m    709\u001b[0m     \u001b[0;32mdef\u001b[0m \u001b[0m__iter__\u001b[0m\u001b[0;34m(\u001b[0m\u001b[0mself\u001b[0m\u001b[0;34m)\u001b[0m \u001b[0;34m->\u001b[0m \u001b[0;32mNone\u001b[0m\u001b[0;34m:\u001b[0m\u001b[0;34m\u001b[0m\u001b[0;34m\u001b[0m\u001b[0m\n\u001b[0;32m--> 710\u001b[0;31m         \u001b[0;32mraise\u001b[0m \u001b[0mTypeError\u001b[0m\u001b[0;34m(\u001b[0m\u001b[0;34m\"Column is not iterable\"\u001b[0m\u001b[0;34m)\u001b[0m\u001b[0;34m\u001b[0m\u001b[0;34m\u001b[0m\u001b[0m\n\u001b[0m\u001b[1;32m    711\u001b[0m \u001b[0;34m\u001b[0m\u001b[0m\n\u001b[1;32m    712\u001b[0m     \u001b[0;31m# string methods\u001b[0m\u001b[0;34m\u001b[0m\u001b[0;34m\u001b[0m\u001b[0m\n",
            "\u001b[0;31mTypeError\u001b[0m: Column is not iterable"
          ]
        }
      ]
    },
    {
      "cell_type": "code",
      "source": [],
      "metadata": {
        "id": "uN5QnlZjVFPA"
      },
      "execution_count": null,
      "outputs": []
    },
    {
      "cell_type": "code",
      "source": [
        "category_set = set()\n",
        "for row in categories.collect():\n",
        "  cat = row['category']\n",
        "  for c in cat:\n",
        "    category_set.add(c)\n",
        "\n",
        "len(category_set)\n"
      ],
      "metadata": {
        "colab": {
          "base_uri": "https://localhost:8080/"
        },
        "id": "4GxwgWoiSz00",
        "outputId": "6f026d1a-68f0-4b08-bfd1-94a2937cba6b"
      },
      "execution_count": null,
      "outputs": [
        {
          "output_type": "execute_result",
          "data": {
            "text/plain": [
              "17667"
            ]
          },
          "metadata": {},
          "execution_count": 32
        }
      ]
    },
    {
      "cell_type": "code",
      "source": [
        "# sort category_set\n",
        "sorted_category_set = sorted(category_set)"
      ],
      "metadata": {
        "id": "qi-qesbSUDFc"
      },
      "execution_count": null,
      "outputs": []
    },
    {
      "cell_type": "code",
      "source": [
        "#print 10 elements of the set category_set\n",
        "for i, c in enumerate(sorted_category_set):\n",
        "  if i<10:\n",
        "    print(c)\n",
        "  else:\n",
        "    break"
      ],
      "metadata": {
        "colab": {
          "base_uri": "https://localhost:8080/"
        },
        "id": "Ep7Q1H13Tain",
        "outputId": "0b7328d5-7c96-46ba-949e-e46337145faf"
      },
      "execution_count": null,
      "outputs": [
        {
          "output_type": "stream",
          "name": "stdout",
          "text": [
            "$7 - $10\n",
            "& 21st Century\n",
            "& Design\n",
            "& Detectives\n",
            "& Legislative Bodies\n",
            "& Magic\n",
            "& Retail Spaces\n",
            "& Telecommunications\n",
            "& Word Lists\n",
            "( A )\n"
          ]
        }
      ]
    },
    {
      "cell_type": "code",
      "source": [
        "for i, c in enumerate(sorted_category_set):\n",
        "  if c== 'Design':\n",
        "    print(True)"
      ],
      "metadata": {
        "colab": {
          "base_uri": "https://localhost:8080/"
        },
        "id": "NSmXovs-TwVN",
        "outputId": "4f259168-c6b4-4811-e382-9fdcaf961e4a"
      },
      "execution_count": null,
      "outputs": [
        {
          "output_type": "stream",
          "name": "stdout",
          "text": [
            "True\n"
          ]
        }
      ]
    },
    {
      "cell_type": "code",
      "source": [
        "proccessed_set = set()\n",
        "for i, c in enumerate(sorted_category_set):\n",
        "  if c.startswith('& '):\n",
        "    proccessed_set.add(c[2:])\n",
        "  else:\n",
        "    proccessed_set.add(c)\n"
      ],
      "metadata": {
        "id": "Rgh6qVYNWN3P"
      },
      "execution_count": null,
      "outputs": []
    },
    {
      "cell_type": "code",
      "source": [
        "# sort category_set\n",
        "sorted_category_set = sorted(proccessed_set)"
      ],
      "metadata": {
        "id": "Z4y5XWmkWu1u"
      },
      "execution_count": null,
      "outputs": []
    },
    {
      "cell_type": "code",
      "source": [
        "print(len(sorted_category_set))"
      ],
      "metadata": {
        "colab": {
          "base_uri": "https://localhost:8080/"
        },
        "id": "sKlRVeZ3W4Ve",
        "outputId": "1e83c098-01c5-4f9e-cf85-8e51e262e117"
      },
      "execution_count": null,
      "outputs": [
        {
          "output_type": "stream",
          "name": "stdout",
          "text": [
            "17662\n"
          ]
        }
      ]
    },
    {
      "cell_type": "code",
      "source": [
        "sorted_category_set"
      ],
      "metadata": {
        "id": "2X4SV-XQW6d4"
      },
      "execution_count": null,
      "outputs": []
    },
    {
      "cell_type": "code",
      "source": [
        "similar = spark.read.option(\"header\",True).csv(file_path+'similar.csv')"
      ],
      "metadata": {
        "id": "pO0BdzpAXBth"
      },
      "execution_count": null,
      "outputs": []
    },
    {
      "cell_type": "code",
      "source": [
        "similar.show(truncate=False)"
      ],
      "metadata": {
        "colab": {
          "base_uri": "https://localhost:8080/"
        },
        "id": "0Jp2EuswYKa_",
        "outputId": "151507d0-e220-4b53-9b89-33a4ee023b08"
      },
      "execution_count": null,
      "outputs": [
        {
          "output_type": "stream",
          "name": "stdout",
          "text": [
            "+----------+----------+\n",
            "|ASIN      |ASIN ID   |\n",
            "+----------+----------+\n",
            "|0827229534|0804215715|\n",
            "|0827229534|156101074X|\n",
            "|0827229534|0687023955|\n",
            "|0827229534|0687074231|\n",
            "|0827229534|082721619X|\n",
            "|0738700797|0738700827|\n",
            "|0738700797|1567184960|\n",
            "|0738700797|1567182836|\n",
            "|0738700797|0738700525|\n",
            "|0738700797|0738700940|\n",
            "|0842328327|0842328130|\n",
            "|0842328327|0830818138|\n",
            "|0842328327|0842330313|\n",
            "|0842328327|0842328610|\n",
            "|0842328327|0842328572|\n",
            "|1577943082|157794349X|\n",
            "|1577943082|0892749504|\n",
            "|1577943082|1577941829|\n",
            "|1577943082|0892749563|\n",
            "|1577943082|1577946006|\n",
            "+----------+----------+\n",
            "only showing top 20 rows\n",
            "\n"
          ]
        }
      ]
    },
    {
      "cell_type": "code",
      "source": [
        "similar = similar.groupBy('ASIN').agg(functions.collect_set(\"ASIN ID\").alias(\"similar set\"))\n",
        "similar.show(truncate=False)"
      ],
      "metadata": {
        "colab": {
          "base_uri": "https://localhost:8080/"
        },
        "id": "rWu-weCCaJ1j",
        "outputId": "f7abbc1b-4953-4995-bb79-0113e63fe1ad"
      },
      "execution_count": 56,
      "outputs": [
        {
          "output_type": "stream",
          "name": "stdout",
          "text": [
            "+----------+------------------------------------------------------------+\n",
            "|ASIN      |similar set                                                 |\n",
            "+----------+------------------------------------------------------------+\n",
            "|0001057170|[B00006JMQR, 1585673080]                                    |\n",
            "|0001474103|[0001472933, 0895403889, 0766187403, 0766177610, 0001473123]|\n",
            "|0002250985|[0912365307, 0060188243, 0394555295, 0446528269, 1558530649]|\n",
            "|0002251965|[0002154129, 000215949X, 0002250357, 0002553481, 0002159317]|\n",
            "|0004722817|[0004708474, 0007127596, 0004708490, 0004708466]            |\n",
            "|0004724534|[0007137222, 0007127596, 0007137214, 0873418247, 0760315604]|\n",
            "|0006386709|[0060516402, 1591396190, 1857883195, 0385267320, 0316172324]|\n",
            "|0006482848|[1400030102, 1400030056, 1400030137, 0375719334, 0375719350]|\n",
            "|0006482864|[1400030072, 1400030080, 1400030110, 1400030129, 0375719350]|\n",
            "|0006491790|[1556431430, 1560449179, 0151005796, 0865475091, 1883319900]|\n",
            "|0006531806|[1891620541, 1574888498, 0030635543, 0786715103]            |\n",
            "|0007105509|[1573221112, 0743427084, 072253955X, 1559390697, 0140196129]|\n",
            "|0007116012|[1573221112, 0743427084, 0007160003, 1573228834, 0140196129]|\n",
            "|0007116993|[0875421180, 0875423574, 014219624X, 0722538790, 0738702226]|\n",
            "|0007117000|[0062513605, 1577311361, 0875163238, 0880796863]            |\n",
            "|0007127952|[0399144374, 159185279X, 0425183114, 039914255X, 0425183092]|\n",
            "|0007131151|[0722535724, 1567185339, 1578630487, 0880796863, 1564145883]|\n",
            "|0007140444|[0960694803, 0285633791]                                    |\n",
            "|0007142595|[0007149107, 0007107951, 0618510982, 0618510826, 0261103881]|\n",
            "|002011690X|[0943604141, 0943604133, 0020016700, 0307605817, 0943604028]|\n",
            "+----------+------------------------------------------------------------+\n",
            "only showing top 20 rows\n",
            "\n"
          ]
        }
      ]
    },
    {
      "cell_type": "code",
      "source": [
        "similar_item = similar.rdd.map(lambda row: (row['ASIN'], row['similar set'])).collectAsMap()\n"
      ],
      "metadata": {
        "id": "i5RiSrRnYoUu"
      },
      "execution_count": 60,
      "outputs": []
    },
    {
      "cell_type": "code",
      "source": [
        "# Print first ten elements from similar_item\n",
        "import itertools\n",
        "for key, value in itertools.islice(similar_item.items(), 10):\n",
        "    print(f\"{key}: {value}\")"
      ],
      "metadata": {
        "colab": {
          "base_uri": "https://localhost:8080/"
        },
        "id": "fMKEvjdLZ4gw",
        "outputId": "79b2aa6b-f206-465b-8fd1-2a2d29f49372"
      },
      "execution_count": 61,
      "outputs": [
        {
          "output_type": "stream",
          "name": "stdout",
          "text": [
            "0001057170: ['B00006JMQR', '1585673080']\n",
            "0001474103: ['0001472933', '0895403889', '0766187403', '0766177610', '0001473123']\n",
            "0002250985: ['0912365307', '0060188243', '0394555295', '0446528269', '1558530649']\n",
            "0002251965: ['0002154129', '000215949X', '0002250357', '0002553481', '0002159317']\n",
            "0004722817: ['0004708474', '0007127596', '0004708490', '0004708466']\n",
            "0004724534: ['0007137222', '0007127596', '0007137214', '0873418247', '0760315604']\n",
            "0006386709: ['0060516402', '1591396190', '1857883195', '0385267320', '0316172324']\n",
            "0006482848: ['1400030102', '1400030056', '1400030137', '0375719334', '0375719350']\n",
            "0006482864: ['1400030072', '1400030080', '1400030110', '1400030129', '0375719350']\n",
            "0006491790: ['1556431430', '1560449179', '0151005796', '0865475091', '1883319900']\n"
          ]
        }
      ]
    },
    {
      "cell_type": "code",
      "source": [],
      "metadata": {
        "id": "tHek0n-Mbpni"
      },
      "execution_count": null,
      "outputs": []
    },
    {
      "cell_type": "code",
      "source": [
        "import networkx as nx"
      ],
      "metadata": {
        "id": "IsR2pTuPYUgJ"
      },
      "execution_count": 84,
      "outputs": []
    },
    {
      "cell_type": "code",
      "source": [
        "graph = nx.Graph()"
      ],
      "metadata": {
        "id": "uxqnL-1iYgpZ"
      },
      "execution_count": 108,
      "outputs": []
    },
    {
      "cell_type": "code",
      "source": [
        "nodes = set()\n",
        "for key, value in itertools.islice(similar_item.items(), 10):\n",
        "    nodes.add(key)\n",
        "    for val in value:\n",
        "      nodes.add(val)\n",
        "\n",
        "nodes = list(nodes)"
      ],
      "metadata": {
        "id": "VDJYOn2VoqX3"
      },
      "execution_count": 100,
      "outputs": []
    },
    {
      "cell_type": "code",
      "source": [
        "len(nodes)"
      ],
      "metadata": {
        "colab": {
          "base_uri": "https://localhost:8080/"
        },
        "id": "Fdm1a1nAqcTe",
        "outputId": "951ac8a4-39ae-4112-b274-115b43bf345e"
      },
      "execution_count": 102,
      "outputs": [
        {
          "output_type": "execute_result",
          "data": {
            "text/plain": [
              "54"
            ]
          },
          "metadata": {},
          "execution_count": 102
        }
      ]
    },
    {
      "cell_type": "code",
      "source": [
        "graph.add_nodes_from(similar_item.keys())\n",
        "# graph.add_nodes_from(nodes)"
      ],
      "metadata": {
        "id": "ju_DFzvfb858"
      },
      "execution_count": 112,
      "outputs": []
    },
    {
      "cell_type": "code",
      "source": [
        "# graph.add_edges_from([(key, item) for key, value in itertools.islice(similar_item.items(),10) for item in value])\n",
        "graph.add_edges_from([(key, item) for key, value in similar_item.items() for item in value])"
      ],
      "metadata": {
        "id": "RnBsYOi8cdRg"
      },
      "execution_count": 113,
      "outputs": []
    },
    {
      "cell_type": "code",
      "source": [
        "for i in similar_item['0001057170']:\n",
        "  print(i)"
      ],
      "metadata": {
        "colab": {
          "base_uri": "https://localhost:8080/"
        },
        "id": "mmymAWXNmA9x",
        "outputId": "54eb0cbb-3f50-4801-ab05-4c4038c60278"
      },
      "execution_count": 70,
      "outputs": [
        {
          "output_type": "stream",
          "name": "stdout",
          "text": [
            "B00006JMQR\n",
            "1585673080\n"
          ]
        }
      ]
    },
    {
      "cell_type": "code",
      "source": [
        "g = nx.Graph()\n",
        "g.add_node(\"0001057170\")\n",
        "for i in similar_item['0001057170']:\n",
        "  g.add_edge(\"0001057170\",str(i))"
      ],
      "metadata": {
        "id": "vsa0xD_gdHe9"
      },
      "execution_count": 77,
      "outputs": []
    },
    {
      "cell_type": "code",
      "source": [
        "nx.draw(graph,with_labels=False,node_size = 100)"
      ],
      "metadata": {
        "colab": {
          "base_uri": "https://localhost:8080/",
          "height": 926
        },
        "id": "iToENWFcmLJp",
        "outputId": "53d6c4b8-6f4e-4b47-c872-3ccf0f79579d"
      },
      "execution_count": 114,
      "outputs": [
        {
          "output_type": "stream",
          "name": "stderr",
          "text": [
            "Exception ignored in: <function _xla_gc_callback at 0x7d4a0f71ac20>\n",
            "Traceback (most recent call last):\n",
            "  File \"/usr/local/lib/python3.10/dist-packages/jax/_src/lib/__init__.py\", line 103, in _xla_gc_callback\n",
            "    def _xla_gc_callback(*args):\n",
            "KeyboardInterrupt: \n"
          ]
        },
        {
          "output_type": "error",
          "ename": "KeyboardInterrupt",
          "evalue": "ignored",
          "traceback": [
            "\u001b[0;31m---------------------------------------------------------------------------\u001b[0m",
            "\u001b[0;31mKeyboardInterrupt\u001b[0m                         Traceback (most recent call last)",
            "\u001b[0;32m<ipython-input-114-8f258b5b58d5>\u001b[0m in \u001b[0;36m<cell line: 1>\u001b[0;34m()\u001b[0m\n\u001b[0;32m----> 1\u001b[0;31m \u001b[0mnx\u001b[0m\u001b[0;34m.\u001b[0m\u001b[0mdraw\u001b[0m\u001b[0;34m(\u001b[0m\u001b[0mgraph\u001b[0m\u001b[0;34m,\u001b[0m\u001b[0mwith_labels\u001b[0m\u001b[0;34m=\u001b[0m\u001b[0;32mFalse\u001b[0m\u001b[0;34m,\u001b[0m\u001b[0mnode_size\u001b[0m \u001b[0;34m=\u001b[0m \u001b[0;36m100\u001b[0m\u001b[0;34m)\u001b[0m\u001b[0;34m\u001b[0m\u001b[0;34m\u001b[0m\u001b[0m\n\u001b[0m",
            "\u001b[0;32m/usr/local/lib/python3.10/dist-packages/networkx/drawing/nx_pylab.py\u001b[0m in \u001b[0;36mdraw\u001b[0;34m(G, pos, ax, **kwds)\u001b[0m\n\u001b[1;32m    119\u001b[0m         \u001b[0mkwds\u001b[0m\u001b[0;34m[\u001b[0m\u001b[0;34m\"with_labels\"\u001b[0m\u001b[0;34m]\u001b[0m \u001b[0;34m=\u001b[0m \u001b[0;34m\"labels\"\u001b[0m \u001b[0;32min\u001b[0m \u001b[0mkwds\u001b[0m\u001b[0;34m\u001b[0m\u001b[0;34m\u001b[0m\u001b[0m\n\u001b[1;32m    120\u001b[0m \u001b[0;34m\u001b[0m\u001b[0m\n\u001b[0;32m--> 121\u001b[0;31m     \u001b[0mdraw_networkx\u001b[0m\u001b[0;34m(\u001b[0m\u001b[0mG\u001b[0m\u001b[0;34m,\u001b[0m \u001b[0mpos\u001b[0m\u001b[0;34m=\u001b[0m\u001b[0mpos\u001b[0m\u001b[0;34m,\u001b[0m \u001b[0max\u001b[0m\u001b[0;34m=\u001b[0m\u001b[0max\u001b[0m\u001b[0;34m,\u001b[0m \u001b[0;34m**\u001b[0m\u001b[0mkwds\u001b[0m\u001b[0;34m)\u001b[0m\u001b[0;34m\u001b[0m\u001b[0;34m\u001b[0m\u001b[0m\n\u001b[0m\u001b[1;32m    122\u001b[0m     \u001b[0max\u001b[0m\u001b[0;34m.\u001b[0m\u001b[0mset_axis_off\u001b[0m\u001b[0;34m(\u001b[0m\u001b[0;34m)\u001b[0m\u001b[0;34m\u001b[0m\u001b[0;34m\u001b[0m\u001b[0m\n\u001b[1;32m    123\u001b[0m     \u001b[0mplt\u001b[0m\u001b[0;34m.\u001b[0m\u001b[0mdraw_if_interactive\u001b[0m\u001b[0;34m(\u001b[0m\u001b[0;34m)\u001b[0m\u001b[0;34m\u001b[0m\u001b[0;34m\u001b[0m\u001b[0m\n",
            "\u001b[0;32m/usr/local/lib/python3.10/dist-packages/networkx/drawing/nx_pylab.py\u001b[0m in \u001b[0;36mdraw_networkx\u001b[0;34m(G, pos, arrows, with_labels, **kwds)\u001b[0m\n\u001b[1;32m    299\u001b[0m \u001b[0;34m\u001b[0m\u001b[0m\n\u001b[1;32m    300\u001b[0m     \u001b[0;32mif\u001b[0m \u001b[0mpos\u001b[0m \u001b[0;32mis\u001b[0m \u001b[0;32mNone\u001b[0m\u001b[0;34m:\u001b[0m\u001b[0;34m\u001b[0m\u001b[0;34m\u001b[0m\u001b[0m\n\u001b[0;32m--> 301\u001b[0;31m         \u001b[0mpos\u001b[0m \u001b[0;34m=\u001b[0m \u001b[0mnx\u001b[0m\u001b[0;34m.\u001b[0m\u001b[0mdrawing\u001b[0m\u001b[0;34m.\u001b[0m\u001b[0mspring_layout\u001b[0m\u001b[0;34m(\u001b[0m\u001b[0mG\u001b[0m\u001b[0;34m)\u001b[0m  \u001b[0;31m# default to spring layout\u001b[0m\u001b[0;34m\u001b[0m\u001b[0;34m\u001b[0m\u001b[0m\n\u001b[0m\u001b[1;32m    302\u001b[0m \u001b[0;34m\u001b[0m\u001b[0m\n\u001b[1;32m    303\u001b[0m     \u001b[0mdraw_networkx_nodes\u001b[0m\u001b[0;34m(\u001b[0m\u001b[0mG\u001b[0m\u001b[0;34m,\u001b[0m \u001b[0mpos\u001b[0m\u001b[0;34m,\u001b[0m \u001b[0;34m**\u001b[0m\u001b[0mnode_kwds\u001b[0m\u001b[0;34m)\u001b[0m\u001b[0;34m\u001b[0m\u001b[0;34m\u001b[0m\u001b[0m\n",
            "\u001b[0;32m/usr/local/lib/python3.10/dist-packages/networkx/utils/decorators.py\u001b[0m in \u001b[0;36margmap_spring_layout_1\u001b[0;34m(G, k, pos, fixed, iterations, threshold, weight, scale, center, dim, seed)\u001b[0m\n\u001b[1;32m      2\u001b[0m \u001b[0;32mimport\u001b[0m \u001b[0mcollections\u001b[0m\u001b[0;34m\u001b[0m\u001b[0;34m\u001b[0m\u001b[0m\n\u001b[1;32m      3\u001b[0m \u001b[0;32mimport\u001b[0m \u001b[0mgzip\u001b[0m\u001b[0;34m\u001b[0m\u001b[0;34m\u001b[0m\u001b[0m\n\u001b[0;32m----> 4\u001b[0;31m \u001b[0;32mimport\u001b[0m \u001b[0minspect\u001b[0m\u001b[0;34m\u001b[0m\u001b[0;34m\u001b[0m\u001b[0m\n\u001b[0m\u001b[1;32m      5\u001b[0m \u001b[0;32mimport\u001b[0m \u001b[0mitertools\u001b[0m\u001b[0;34m\u001b[0m\u001b[0;34m\u001b[0m\u001b[0m\n\u001b[1;32m      6\u001b[0m \u001b[0;32mimport\u001b[0m \u001b[0mre\u001b[0m\u001b[0;34m\u001b[0m\u001b[0;34m\u001b[0m\u001b[0m\n",
            "\u001b[0;32m/usr/local/lib/python3.10/dist-packages/networkx/drawing/layout.py\u001b[0m in \u001b[0;36mspring_layout\u001b[0;34m(G, k, pos, fixed, iterations, threshold, weight, scale, center, dim, seed)\u001b[0m\n\u001b[1;32m    480\u001b[0m             \u001b[0mnnodes\u001b[0m\u001b[0;34m,\u001b[0m \u001b[0m_\u001b[0m \u001b[0;34m=\u001b[0m \u001b[0mA\u001b[0m\u001b[0;34m.\u001b[0m\u001b[0mshape\u001b[0m\u001b[0;34m\u001b[0m\u001b[0;34m\u001b[0m\u001b[0m\n\u001b[1;32m    481\u001b[0m             \u001b[0mk\u001b[0m \u001b[0;34m=\u001b[0m \u001b[0mdom_size\u001b[0m \u001b[0;34m/\u001b[0m \u001b[0mnp\u001b[0m\u001b[0;34m.\u001b[0m\u001b[0msqrt\u001b[0m\u001b[0;34m(\u001b[0m\u001b[0mnnodes\u001b[0m\u001b[0;34m)\u001b[0m\u001b[0;34m\u001b[0m\u001b[0;34m\u001b[0m\u001b[0m\n\u001b[0;32m--> 482\u001b[0;31m         pos = _sparse_fruchterman_reingold(\n\u001b[0m\u001b[1;32m    483\u001b[0m             \u001b[0mA\u001b[0m\u001b[0;34m,\u001b[0m \u001b[0mk\u001b[0m\u001b[0;34m,\u001b[0m \u001b[0mpos_arr\u001b[0m\u001b[0;34m,\u001b[0m \u001b[0mfixed\u001b[0m\u001b[0;34m,\u001b[0m \u001b[0miterations\u001b[0m\u001b[0;34m,\u001b[0m \u001b[0mthreshold\u001b[0m\u001b[0;34m,\u001b[0m \u001b[0mdim\u001b[0m\u001b[0;34m,\u001b[0m \u001b[0mseed\u001b[0m\u001b[0;34m\u001b[0m\u001b[0;34m\u001b[0m\u001b[0m\n\u001b[1;32m    484\u001b[0m         )\n",
            "\u001b[0;32m/usr/local/lib/python3.10/dist-packages/networkx/utils/decorators.py\u001b[0m in \u001b[0;36margmap__sparse_fruchterman_reingold_9\u001b[0;34m(A, k, pos, fixed, iterations, threshold, dim, seed)\u001b[0m\n\u001b[1;32m      2\u001b[0m \u001b[0;32mimport\u001b[0m \u001b[0mcollections\u001b[0m\u001b[0;34m\u001b[0m\u001b[0;34m\u001b[0m\u001b[0m\n\u001b[1;32m      3\u001b[0m \u001b[0;32mimport\u001b[0m \u001b[0mgzip\u001b[0m\u001b[0;34m\u001b[0m\u001b[0;34m\u001b[0m\u001b[0m\n\u001b[0;32m----> 4\u001b[0;31m \u001b[0;32mimport\u001b[0m \u001b[0minspect\u001b[0m\u001b[0;34m\u001b[0m\u001b[0;34m\u001b[0m\u001b[0m\n\u001b[0m\u001b[1;32m      5\u001b[0m \u001b[0;32mimport\u001b[0m \u001b[0mitertools\u001b[0m\u001b[0;34m\u001b[0m\u001b[0;34m\u001b[0m\u001b[0m\n\u001b[1;32m      6\u001b[0m \u001b[0;32mimport\u001b[0m \u001b[0mre\u001b[0m\u001b[0;34m\u001b[0m\u001b[0;34m\u001b[0m\u001b[0m\n",
            "\u001b[0;32m/usr/local/lib/python3.10/dist-packages/networkx/drawing/layout.py\u001b[0m in \u001b[0;36m_sparse_fruchterman_reingold\u001b[0;34m(A, k, pos, fixed, iterations, threshold, dim, seed)\u001b[0m\n\u001b[1;32m    622\u001b[0m             \u001b[0mAi\u001b[0m \u001b[0;34m=\u001b[0m \u001b[0mA\u001b[0m\u001b[0;34m.\u001b[0m\u001b[0mgetrowview\u001b[0m\u001b[0;34m(\u001b[0m\u001b[0mi\u001b[0m\u001b[0;34m)\u001b[0m\u001b[0;34m.\u001b[0m\u001b[0mtoarray\u001b[0m\u001b[0;34m(\u001b[0m\u001b[0;34m)\u001b[0m  \u001b[0;31m# TODO: revisit w/ sparse 1D container\u001b[0m\u001b[0;34m\u001b[0m\u001b[0;34m\u001b[0m\u001b[0m\n\u001b[1;32m    623\u001b[0m             \u001b[0;31m# displacement \"force\"\u001b[0m\u001b[0;34m\u001b[0m\u001b[0;34m\u001b[0m\u001b[0m\n\u001b[0;32m--> 624\u001b[0;31m             displacement[:, i] += (\n\u001b[0m\u001b[1;32m    625\u001b[0m                 \u001b[0mdelta\u001b[0m \u001b[0;34m*\u001b[0m \u001b[0;34m(\u001b[0m\u001b[0mk\u001b[0m \u001b[0;34m*\u001b[0m \u001b[0mk\u001b[0m \u001b[0;34m/\u001b[0m \u001b[0mdistance\u001b[0m\u001b[0;34m**\u001b[0m\u001b[0;36m2\u001b[0m \u001b[0;34m-\u001b[0m \u001b[0mAi\u001b[0m \u001b[0;34m*\u001b[0m \u001b[0mdistance\u001b[0m \u001b[0;34m/\u001b[0m \u001b[0mk\u001b[0m\u001b[0;34m)\u001b[0m\u001b[0;34m\u001b[0m\u001b[0;34m\u001b[0m\u001b[0m\n\u001b[1;32m    626\u001b[0m             ).sum(axis=1)\n",
            "\u001b[0;32m/usr/local/lib/python3.10/dist-packages/numpy/core/_methods.py\u001b[0m in \u001b[0;36m_sum\u001b[0;34m(a, axis, dtype, out, keepdims, initial, where)\u001b[0m\n\u001b[1;32m     44\u001b[0m     \u001b[0;32mreturn\u001b[0m \u001b[0mumr_minimum\u001b[0m\u001b[0;34m(\u001b[0m\u001b[0ma\u001b[0m\u001b[0;34m,\u001b[0m \u001b[0maxis\u001b[0m\u001b[0;34m,\u001b[0m \u001b[0;32mNone\u001b[0m\u001b[0;34m,\u001b[0m \u001b[0mout\u001b[0m\u001b[0;34m,\u001b[0m \u001b[0mkeepdims\u001b[0m\u001b[0;34m,\u001b[0m \u001b[0minitial\u001b[0m\u001b[0;34m,\u001b[0m \u001b[0mwhere\u001b[0m\u001b[0;34m)\u001b[0m\u001b[0;34m\u001b[0m\u001b[0;34m\u001b[0m\u001b[0m\n\u001b[1;32m     45\u001b[0m \u001b[0;34m\u001b[0m\u001b[0m\n\u001b[0;32m---> 46\u001b[0;31m def _sum(a, axis=None, dtype=None, out=None, keepdims=False,\n\u001b[0m\u001b[1;32m     47\u001b[0m          initial=_NoValue, where=True):\n\u001b[1;32m     48\u001b[0m     \u001b[0;32mreturn\u001b[0m \u001b[0mumr_sum\u001b[0m\u001b[0;34m(\u001b[0m\u001b[0ma\u001b[0m\u001b[0;34m,\u001b[0m \u001b[0maxis\u001b[0m\u001b[0;34m,\u001b[0m \u001b[0mdtype\u001b[0m\u001b[0;34m,\u001b[0m \u001b[0mout\u001b[0m\u001b[0;34m,\u001b[0m \u001b[0mkeepdims\u001b[0m\u001b[0;34m,\u001b[0m \u001b[0minitial\u001b[0m\u001b[0;34m,\u001b[0m \u001b[0mwhere\u001b[0m\u001b[0;34m)\u001b[0m\u001b[0;34m\u001b[0m\u001b[0;34m\u001b[0m\u001b[0m\n",
            "\u001b[0;31mKeyboardInterrupt\u001b[0m: "
          ]
        },
        {
          "output_type": "display_data",
          "data": {
            "text/plain": [
              "<Figure size 640x480 with 1 Axes>"
            ],
            "image/png": "[encoded data removed]"
          },
          "metadata": {}
        }
      ]
    },
    {
      "cell_type": "code",
      "source": [],
      "metadata": {
        "id": "8yx-aZ7jnRNn"
      },
      "execution_count": null,
      "outputs": []
    }
  ]
}